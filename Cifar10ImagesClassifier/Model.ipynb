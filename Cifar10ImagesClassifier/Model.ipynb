{
 "cells": [
  {
   "cell_type": "code",
   "id": "initial_id",
   "metadata": {
    "collapsed": true,
    "ExecuteTime": {
     "end_time": "2025-06-03T13:54:49.605241Z",
     "start_time": "2025-06-03T13:54:49.602242Z"
    }
   },
   "source": [
    "import torch\n",
    "from torch import nn\n",
    "from torchvision import datasets, transforms\n",
    "from torch.utils.data import DataLoader\n",
    "from torchvision.models import ResNet18_Weights, resnet18"
   ],
   "outputs": [],
   "execution_count": 26
  },
  {
   "metadata": {
    "ExecuteTime": {
     "end_time": "2025-06-03T13:00:25.649368Z",
     "start_time": "2025-06-03T13:00:25.645225Z"
    }
   },
   "cell_type": "code",
   "source": [
    "torch.manual_seed(0)\n",
    "device = torch.device(\"cuda\" if torch.cuda.is_available() else \"cpu\")\n",
    "print(device)"
   ],
   "id": "e8cb227ff023331c",
   "outputs": [
    {
     "name": "stdout",
     "output_type": "stream",
     "text": [
      "cuda\n"
     ]
    }
   ],
   "execution_count": 14
  },
  {
   "metadata": {
    "ExecuteTime": {
     "end_time": "2025-06-03T13:00:26.981468Z",
     "start_time": "2025-06-03T13:00:25.649368Z"
    }
   },
   "cell_type": "code",
   "source": [
    "train_dataset = datasets.CIFAR10(\n",
    "    root='./data', \n",
    "    train=True, \n",
    "    download=True, \n",
    "    transform=transforms.Compose([\n",
    "        transforms.Resize((224, 224)),\n",
    "        transforms.ToTensor(),\n",
    "        transforms.Normalize([0.485, 0.456, 0.406], [0.229, 0.224, 0.225])\n",
    "    ])\n",
    ")\n",
    "\n",
    "val_dataset = datasets.CIFAR10(\n",
    "    root='./data', \n",
    "    train=False, \n",
    "    download=True, \n",
    "    transform=transforms.Compose([\n",
    "        transforms.Resize((224, 224)),\n",
    "        transforms.ToTensor(),\n",
    "        transforms.Normalize([0.485, 0.456, 0.406], [0.229, 0.224, 0.225])\n",
    "    ])\n",
    ")\n",
    "\n",
    "BATCH_SIZE = 64\n",
    "\n",
    "train_loader = DataLoader(train_dataset, batch_size=BATCH_SIZE, shuffle=True)\n",
    "val_loader = DataLoader(val_dataset, batch_size=BATCH_SIZE, shuffle=False)"
   ],
   "id": "7fd3e37b0bd24855",
   "outputs": [
    {
     "name": "stdout",
     "output_type": "stream",
     "text": [
      "Files already downloaded and verified\n",
      "Files already downloaded and verified\n"
     ]
    }
   ],
   "execution_count": 15
  },
  {
   "metadata": {
    "ExecuteTime": {
     "end_time": "2025-06-03T13:00:26.986167Z",
     "start_time": "2025-06-03T13:00:26.981971Z"
    }
   },
   "cell_type": "code",
   "source": [
    "class Net(nn.Module):\n",
    "    def __init__(self):\n",
    "        super(Net, self).__init__()\n",
    "        self.model = resnet18(weights=ResNet18_Weights.DEFAULT)\n",
    "        self.backbone = nn.Sequential(*list(self.model.children())[:-1])\n",
    "        self.flatten = nn.Flatten()\n",
    "        self.l1 = nn.Linear(512, 256)\n",
    "        self.relu = nn.LeakyReLU()\n",
    "        self.norm = nn.BatchNorm1d(256)\n",
    "        self.dropout = nn.Dropout(0.2)\n",
    "        self.l2 = nn.Linear(256, 10)\n",
    "        self.softmax = nn.Softmax(dim=1)\n",
    "        \n",
    "    def forward(self, x):\n",
    "        x = self.backbone(x)\n",
    "        x = self.flatten(x)\n",
    "        x = self.l1(x)\n",
    "        x = self.relu(x)\n",
    "        x = self.norm(x)\n",
    "        x = self.dropout(x)\n",
    "        x = self.l2(x)\n",
    "        x = self.softmax(x)\n",
    "        return x"
   ],
   "id": "1dab235e74c05c50",
   "outputs": [],
   "execution_count": 16
  },
  {
   "metadata": {
    "ExecuteTime": {
     "end_time": "2025-06-03T13:34:56.012042Z",
     "start_time": "2025-06-03T13:00:26.987262Z"
    }
   },
   "cell_type": "code",
   "source": [
    "from torch.optim import Adam\n",
    "import time\n",
    "\n",
    "model = Net()\n",
    "model = model.to(device)\n",
    "\n",
    "cost_func = nn.CrossEntropyLoss()\n",
    "optimizer = Adam(model.parameters(), lr=0.001)\n",
    "\n",
    "def train(train_loader, model, optimizer, cost_function):\n",
    "    true_predicts, total_loss = 0, 0\n",
    "    \n",
    "    model.train()\n",
    "    for i, (data, target) in enumerate(train_loader):\n",
    "        data, target = data.to(device), target.to(device)\n",
    "        \n",
    "        pred = model(data)\n",
    "        preds_label = torch.argmax(pred, dim=1)\n",
    "        loss = cost_function(pred, target)\n",
    "        \n",
    "        optimizer.zero_grad()\n",
    "        loss.backward()\n",
    "        optimizer.step()\n",
    "        \n",
    "        true_predicts += torch.sum(preds_label == target).item()\n",
    "        total_loss += loss.item()\n",
    "    \n",
    "    accuracy = true_predicts / len(train_loader.dataset)\n",
    "    loss = total_loss / len(train_loader)\n",
    "    \n",
    "    return accuracy, loss\n",
    "\n",
    "\n",
    "def validate(test_loader, model, cost_function):\n",
    "    true_predicts, total_loss = 0, 0\n",
    "    \n",
    "    model.eval()\n",
    "    for data, target in test_loader:\n",
    "        data, target = data.to(device), target.to(device)\n",
    "        \n",
    "        with torch.no_grad():\n",
    "            pred = model(data)\n",
    "            loss = cost_function(pred, target)\n",
    "        \n",
    "        preds_label = torch.argmax(pred, dim=1)        \n",
    "        true_predicts += torch.sum(preds_label == target).item()\n",
    "        total_loss += loss.item()\n",
    "    \n",
    "    accuracy = true_predicts / len(test_loader.dataset)\n",
    "    loss = total_loss / len(test_loader)\n",
    "    \n",
    "    return accuracy, loss\n",
    "\n",
    "EPOCHS = 10\n",
    "min_loss = float('inf')\n",
    "\n",
    "for epoch in range(EPOCHS):\n",
    "    start = time.time()\n",
    "    \n",
    "    train_acc, train_loss = train(train_loader, model, optimizer, cost_func)\n",
    "    val_acc, val_loss = validate(val_loader, model, cost_func)\n",
    "    \n",
    "    end = time.time()\n",
    "    time_taken = end - start\n",
    "    \n",
    "    print(f'Epoch: {epoch+1}/{EPOCHS} --> Train Loss: {train_loss:.4f}, Train Accuracy: {train_acc:.4f} | Val Loss: {val_loss:.4f}, Val Accuracy: {val_acc:.4f} | Time taken: {time_taken:.4f}')\n",
    "    \n",
    "    if val_loss < min_loss:\n",
    "        min_loss = val_loss\n",
    "        torch.save(model.state_dict(), 'best_model_weights.pt')"
   ],
   "id": "d775397e104bad7b",
   "outputs": [
    {
     "name": "stdout",
     "output_type": "stream",
     "text": [
      "Epoch: 1/10 --> Train Loss: 1.7690, Train Accuracy: 0.6967 | Val Loss: 1.7238, Val Accuracy: 0.7390 | Time taken: 190.7367\n",
      "Epoch: 2/10 --> Train Loss: 1.6801, Train Accuracy: 0.7825 | Val Loss: 1.6675, Val Accuracy: 0.7937 | Time taken: 234.3184\n",
      "Epoch: 3/10 --> Train Loss: 1.6500, Train Accuracy: 0.8119 | Val Loss: 1.6854, Val Accuracy: 0.7752 | Time taken: 211.4378\n",
      "Epoch: 4/10 --> Train Loss: 1.6278, Train Accuracy: 0.8336 | Val Loss: 1.6304, Val Accuracy: 0.8304 | Time taken: 227.2771\n",
      "Epoch: 5/10 --> Train Loss: 1.6127, Train Accuracy: 0.8485 | Val Loss: 1.6422, Val Accuracy: 0.8199 | Time taken: 243.7405\n",
      "Epoch: 6/10 --> Train Loss: 1.6025, Train Accuracy: 0.8585 | Val Loss: 1.6232, Val Accuracy: 0.8384 | Time taken: 235.5453\n",
      "Epoch: 7/10 --> Train Loss: 1.5880, Train Accuracy: 0.8734 | Val Loss: 1.6080, Val Accuracy: 0.8532 | Time taken: 251.4652\n",
      "Epoch: 8/10 --> Train Loss: 1.5830, Train Accuracy: 0.8778 | Val Loss: 1.6096, Val Accuracy: 0.8502 | Time taken: 171.6313\n",
      "Epoch: 9/10 --> Train Loss: 1.5741, Train Accuracy: 0.8866 | Val Loss: 1.6035, Val Accuracy: 0.8562 | Time taken: 161.4075\n",
      "Epoch: 10/10 --> Train Loss: 1.5677, Train Accuracy: 0.8933 | Val Loss: 1.5983, Val Accuracy: 0.8630 | Time taken: 140.8101\n"
     ]
    }
   ],
   "execution_count": 17
  },
  {
   "metadata": {
    "ExecuteTime": {
     "end_time": "2025-06-03T13:51:00.097825Z",
     "start_time": "2025-06-03T13:50:48.901864Z"
    }
   },
   "cell_type": "code",
   "source": [
    "def evaluate(val_loader, model, cost_function):\n",
    "    true_predicts, total_loss = 0, 0\n",
    "    \n",
    "    model.eval()\n",
    "    for data, target in val_loader:\n",
    "        data, target = data.to(device), target.to(device)\n",
    "        \n",
    "        with torch.no_grad():\n",
    "            pred = model(data)\n",
    "            loss = cost_function(pred, target)\n",
    "        \n",
    "        preds_label = torch.argmax(pred, dim=1)        \n",
    "        true_predicts += torch.sum(preds_label == target).item()\n",
    "        total_loss += loss.item()\n",
    "    \n",
    "    accuracy = true_predicts / len(val_loader.dataset)\n",
    "    loss = total_loss / len(val_loader)\n",
    "    \n",
    "    return accuracy, loss\n",
    "\n",
    "\n",
    "# best_model = Net()\n",
    "best_model = Net()\n",
    "best_model.load_state_dict(torch.load('best_model_weights.pt', weights_only=True))\n",
    "best_model.to(device)\n",
    "\n",
    "accuracy, loss = evaluate(val_loader, best_model, cost_func)\n",
    "print(f'Accuracy: {accuracy:.4f} | Loss: {loss:.4f}')"
   ],
   "id": "5342f6ec381ad5fd",
   "outputs": [
    {
     "name": "stdout",
     "output_type": "stream",
     "text": [
      "Accuracy: 0.8630 | Loss: 1.5983\n"
     ]
    }
   ],
   "execution_count": 25
  }
 ],
 "metadata": {
  "kernelspec": {
   "display_name": "Python 3",
   "language": "python",
   "name": "python3"
  },
  "language_info": {
   "codemirror_mode": {
    "name": "ipython",
    "version": 2
   },
   "file_extension": ".py",
   "mimetype": "text/x-python",
   "name": "python",
   "nbconvert_exporter": "python",
   "pygments_lexer": "ipython2",
   "version": "2.7.6"
  }
 },
 "nbformat": 4,
 "nbformat_minor": 5
}
